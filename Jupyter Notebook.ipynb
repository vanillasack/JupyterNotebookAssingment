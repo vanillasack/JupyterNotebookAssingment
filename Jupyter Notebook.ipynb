{
  "metadata": {
    "language_info": {
      "codemirror_mode": {
        "name": "python",
        "version": 3
      },
      "file_extension": ".py",
      "mimetype": "text/x-python",
      "name": "python",
      "nbconvert_exporter": "python",
      "pygments_lexer": "ipython3",
      "version": "3.8"
    },
    "kernelspec": {
      "name": "python",
      "display_name": "Pyolite",
      "language": "python"
    }
  },
  "nbformat_minor": 4,
  "nbformat": 4,
  "cells": [
    {
      "cell_type": "markdown",
      "source": "# My Jupyter Notebook on IBM Watson Studio ",
      "metadata": {}
    },
    {
      "cell_type": "markdown",
      "source": "**Vilaysak Phimmasorn**\n\nStudent of Life and Plant Dad",
      "metadata": {}
    },
    {
      "cell_type": "markdown",
      "source": "*Data science is interesting because there are so many patterns of insight that are just waiting to be discovered! To me, data science provides a detailed picture to help understand the \"big picture\", quite literally.* ",
      "metadata": {}
    },
    {
      "cell_type": "markdown",
      "source": "### My code attempts to sovle the internet math meme problem.  \n\nInternet Math Problem: \n![alt text](https://pbs.twimg.com/media/EAmCTOJXsAYqL4r?format=jpg&name=medium \"math problem\") \n",
      "metadata": {}
    },
    {
      "cell_type": "code",
      "source": "8/2*(2+2)",
      "metadata": {
        "trusted": true
      },
      "execution_count": 16,
      "outputs": [
        {
          "execution_count": 16,
          "output_type": "execute_result",
          "data": {
            "text/plain": "16.0"
          },
          "metadata": {}
        }
      ]
    },
    {
      "cell_type": "markdown",
      "source": "-----\n\nI sourced the picture from [twitter account.](https://twitter.com/pjmdolI/status/1155598050959745026?ref_src=twsrc%5Etfw%7Ctwcamp%5Etweetembed%7Ctwterm%5E1155598050959745026%7Ctwgr%5E2f25291269205d7861a43c44b3738b6f87fd348a%7Ctwcon%5Es1_&ref_url=https%3A%2F%2Fwww.inc.com%2Fdave-kerpen%2Fthis-basic-math-problem-is-breaking-internet.html) \n\nI also want to include a little bit of [information](https://www.inc.com/dave-kerpen/this-basic-math-problem-is-breaking-internet.html) about the orders of operation. Depending on how you were taught the orders of operation of math, you might get the answer 1 ~~(like I did)~~. This [article](https://www.inc.com/dave-kerpen/this-basic-math-problem-is-breaking-internet.html) suggest: \n>The real answer is, it depends how you were taught. That, and the question isn't written very well: It would be better to using the \"/\" sign instead of the \"÷\" sign, which is rarely used after elementary school. (And even better to use more parentheses to indicate the order you want.) So, a better version would be 8/(2(2+2)) = ? or (8/2)(2+2) = ?\n\nI agree that the anwser would be more clear if the problem is also defined very well. \n\n-----\n\n#### Summary from Math Meme\n\n1. Clearly define the problem\n2. Everybody is different and it is important to understand how we get to the answer than the actual anwser itself\n3. Don't take the internet seriously. \n",
      "metadata": {}
    },
    {
      "cell_type": "code",
      "source": "",
      "metadata": {},
      "execution_count": null,
      "outputs": []
    }
  ]
}